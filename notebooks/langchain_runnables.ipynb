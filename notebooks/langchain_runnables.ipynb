{
 "cells": [
  {
   "cell_type": "markdown",
   "metadata": {},
   "source": [
    "# Experiments with Runnables"
   ]
  },
  {
   "cell_type": "markdown",
   "metadata": {},
   "source": [
    "Create a few RunnableLambda, and compose them in sequence and in parallel"
   ]
  },
  {
   "cell_type": "code",
   "execution_count": null,
   "metadata": {},
   "outputs": [],
   "source": [
    "\n",
    "from langchain_core.runnables import (\n",
    "    RunnableLambda,\n",
    "    RunnableParallel,\n",
    "    RunnablePassthrough,\n",
    "    chain,\n",
    ")\n",
    "\n",
    "add_1 = RunnableLambda(lambda x: x + 1)\n",
    "add_3 = RunnableLambda(lambda x: x + 3)\n",
    "\n",
    "\n",
    "@chain\n",
    "def mult_2(x: int):\n",
    "    return x * 2\n",
    "\n",
    "\n",
    "sequence = mult_2 | add_1\n",
    "parallel = mult_2 | {\"add_1\": add_1, \"add_3\": add_3}\n",
    "\n",
    "# same as above:\n",
    "parallel1 = RunnableParallel(add_1=add_1, add_3=add_3)"
   ]
  },
  {
   "cell_type": "markdown",
   "metadata": {},
   "source": [
    "Run the runnable directly, batched, in parallel (multi-threaded whenever possible!), ..."
   ]
  },
  {
   "cell_type": "code",
   "execution_count": null,
   "metadata": {},
   "outputs": [],
   "source": [
    "sequence.invoke(1)  # 3\n",
    "sequence.batch([1, 2, 3])  # [3,5,7]\n",
    "parallel.invoke(1)  # {'add_1': 3, 'add_2': 4}\n",
    "\n",
    "await sequence.abatch([1, 2, 3, 4, 5])"
   ]
  },
  {
   "cell_type": "markdown",
   "metadata": {},
   "source": [
    "Runnable can stream their outcome"
   ]
  },
  {
   "cell_type": "code",
   "execution_count": null,
   "metadata": {},
   "outputs": [],
   "source": [
    "for s in parallel.stream(100000):\n",
    "    print(s, end=\"|\", flush=True)"
   ]
  },
  {
   "cell_type": "markdown",
   "metadata": {},
   "source": [
    "Print the graph and various type information"
   ]
  },
  {
   "cell_type": "code",
   "execution_count": null,
   "metadata": {},
   "outputs": [],
   "source": [
    "parallel.get_graph().print_ascii()\n",
    "\n",
    "print(\"input type:\", sequence.InputType)\n",
    "print(\"output type:\", sequence.OutputType)\n",
    "\n",
    "print(\"input schema: \", sequence.input_schema().schema())\n",
    "print(\"output schema: \", sequence.output_schema().schema())"
   ]
  },
  {
   "cell_type": "markdown",
   "metadata": {},
   "source": [
    "Use RunnablePassthrough"
   ]
  },
  {
   "cell_type": "code",
   "execution_count": null,
   "metadata": {},
   "outputs": [],
   "source": [
    "runnable = RunnableParallel(origin=RunnablePassthrough(), modified=add_1)\n",
    "\n",
    "runnable.invoke(1)  # {'origin': 1, 'modified': 2}"
   ]
  },
  {
   "cell_type": "markdown",
   "metadata": {},
   "source": [
    "Demo 'bind' and 'RunnableConfig' : implement a filter, and log activities"
   ]
  },
  {
   "cell_type": "code",
   "execution_count": null,
   "metadata": {},
   "outputs": [],
   "source": [
    "from langchain_core.runnables import RunnableConfig\n",
    "from loguru import logger\n",
    "\n",
    "\n",
    "@chain # type: ignore\n",
    "def max(x: int, max: int, config: RunnableConfig) -> int:\n",
    "    if log := (config[\"logger\"]):  # type: ignore\n",
    "        log.info(f\"check if {x} < {max}\")\n",
    "    return max if x >= max else x\n",
    "\n",
    "\n",
    "a = sequence | max.bind(max=6)\n",
    "a.batch([1, 2, 3, 4, 5], {\"logger\": logger})"
   ]
  },
  {
   "cell_type": "markdown",
   "metadata": {},
   "source": [
    "Demo 'assign\", that adds new fields to the dict output of the runnable and returns a new runnable."
   ]
  },
  {
   "cell_type": "code",
   "execution_count": null,
   "metadata": {},
   "outputs": [],
   "source": [
    "from langchain_core.runnables import RunnableParallel, RunnablePassthrough\n",
    "\n",
    "runnable = (\n",
    "    RunnableParallel(\n",
    "        extra=RunnablePassthrough.assign(mult_10=lambda x: x[\"num\"] * 10),\n",
    "        plus_1=lambda x: x[\"num\"] + 1,\n",
    "    )\n",
    "    .assign(info=lambda x: x)\n",
    "    .assign(plus_1_time_3=lambda x: x[\"plus_1\"] * 3)\n",
    ")\n",
    "\n",
    "runnable.invoke({\"num\": 2})"
   ]
  },
  {
   "cell_type": "markdown",
   "metadata": {},
   "source": [
    "Most of the time, there are several parameters, or it's a dictionary (almost equivalent in Python).\n",
    "'itemgetter' create a function that can extract one or several fields from a dictionary. \n",
    "\n",
    "First have a look at how it works:"
   ]
  },
  {
   "cell_type": "code",
   "execution_count": null,
   "metadata": {},
   "outputs": [],
   "source": [
    "from operator import itemgetter\n",
    "\n",
    "dic = {\n",
    "    \"question\": \"What are the types of agent memory?\",\n",
    "    \"generation\": \"The types of agent memory are: sensory memory, short-term memory, and long-term memory.\",\n",
    "    \"documents\": [],\n",
    "}\n",
    "\n",
    "getter_function = itemgetter(\"generation\")\n",
    "getter_function(dic)"
   ]
  },
  {
   "cell_type": "markdown",
   "metadata": {},
   "source": [
    "here an example with Runnables"
   ]
  },
  {
   "cell_type": "code",
   "execution_count": null,
   "metadata": {},
   "outputs": [],
   "source": [
    "adder = RunnableLambda(lambda d: d[\"op1\"] + d[\"op2\"])\n",
    "\n",
    "\n",
    "mult_2_and_add = (\n",
    "    RunnableParallel(\n",
    "        op1=RunnablePassthrough() | itemgetter(\"a\") | mult_2,\n",
    "        op2=RunnablePassthrough() | itemgetter(\"b\") | mult_2,\n",
    "    )\n",
    "    | adder\n",
    ")\n",
    "\n",
    "mult_2_and_add.invoke({\"a\": 10, \"b\": 2})  # should return 2*10 + 2*2 = 24"
   ]
  },
  {
   "cell_type": "code",
   "execution_count": null,
   "metadata": {},
   "outputs": [],
   "source": [
    "zzz = RunnableLambda(lambda x: {\"a\": x, \"b\": 2}) | mult_2_and_add\n",
    "\n",
    "zzz.invoke(10)"
   ]
  },
  {
   "cell_type": "markdown",
   "metadata": {},
   "source": [
    "Runnables can have fallback in case they break."
   ]
  },
  {
   "cell_type": "code",
   "execution_count": null,
   "metadata": {},
   "outputs": [],
   "source": [
    "@chain\n",
    "def mult_10_fail(x: int):\n",
    "    raise Exception(\"unavailable multiplication by 10 service\")\n",
    "    return x * 10\n",
    "\n",
    "\n",
    "fallback_chain = mult_10_fail.with_fallbacks([mult_2])\n",
    "fallback_chain.invoke(2)"
   ]
  }
 ],
 "metadata": {
  "kernelspec": {
   "display_name": "di-maintenance-agent-demo-DCv9_gKb-py3.10",
   "language": "python",
   "name": "python3"
  },
  "language_info": {
   "codemirror_mode": {
    "name": "ipython",
    "version": 3
   },
   "file_extension": ".py",
   "mimetype": "text/x-python",
   "name": "python",
   "nbconvert_exporter": "python",
   "pygments_lexer": "ipython3",
   "version": "3.10.12"
  }
 },
 "nbformat": 4,
 "nbformat_minor": 2
}

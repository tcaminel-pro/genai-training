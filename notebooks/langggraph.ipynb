{
 "cells": [
  {
   "cell_type": "markdown",
   "metadata": {},
   "source": [
    "# Fibonacci sequence with LangGraph\n",
    "## Reminder :\n",
    "- F0 = 0  \n",
    "- F1 = 1 \n",
    "- Fn = Fn-1 + Fn-2\n",
    "\n",
    "## Calculation with a State Machine :\n",
    "\n",
    "```\n",
    "States (Nodes):\n",
    "Initial State (Start): The starting state before any calculation begins.\n",
    "currentState = Start\n",
    "a = 0\n",
    "b = 1\n",
    "counter = 0\n",
    "\n",
    "while (currentState != End) {\n",
    "    if (currentState == Start) {\n",
    "        currentState = Calculate\n",
    "    } else if (currentState == Calculate) {\n",
    "        display a\n",
    "        next_termTerm = a + b\n",
    "        if (counter >= n) {\n",
    "            currentState = End\n",
    "        } else {\n",
    "            currentState = Update\n",
    "        }\n",
    "    } else if (currentState == Update) {\n",
    "        a = b\n",
    "        b = next_termTerm\n",
    "        counter = counter + 1\n",
    "        currentState = Calculate\n",
    "    }\n",
    "}\n",
    "```\n",
    "\n",
    "## State machine implementation with LangGraph :"
   ]
  },
  {
   "cell_type": "code",
   "execution_count": 6,
   "metadata": {},
   "outputs": [],
   "source": [
    "from typing import Literal, TypedDict\n",
    "\n",
    "from devtools import debug  # noqa: F401\n",
    "from langchain_core.runnables import chain\n",
    "from langgraph.graph import END, StateGraph\n",
    "\n",
    "\n",
    "class State(TypedDict, total=False):\n",
    "    \"\"\"State of the calculation.\n",
    "    'total=False' because LangGraph allows that only the fields that have changed can be returned\n",
    "    \"\"\"\n",
    "\n",
    "    a: int\n",
    "    b: int\n",
    "    next_term: int\n",
    "    counter: int\n",
    "    sequence: list[int]\n",
    "    n: int\n",
    "\n",
    "\n",
    "workflow = StateGraph(State)\n",
    "\n",
    "\n",
    "@chain\n",
    "def init_node(_: State) -> State:\n",
    "    return {\"a\": 0, \"b\": 1, \"counter\": 0, \"sequence\": []}\n",
    "\n",
    "\n",
    "@chain\n",
    "def calculate_node(state: State) -> State:\n",
    "    next_term = state[\"a\"] + state[\"b\"]\n",
    "    return {\n",
    "        \"next_term\": next_term,\n",
    "        \"sequence\": state[\"sequence\"] + [next_term],\n",
    "    }\n",
    "\n",
    "\n",
    "@chain\n",
    "def next_state(state: State) -> Literal[\"update\", \"finish\"]:\n",
    "    if state[\"counter\"] < state[\"n\"]:\n",
    "        return \"update\"\n",
    "    else:\n",
    "        return \"finish\"\n",
    "\n",
    "\n",
    "@chain\n",
    "def update_node(state: State) -> State:\n",
    "    return {\n",
    "        \"a\": state[\"b\"],\n",
    "        \"b\": state[\"next_term\"],\n",
    "        \"counter\": state[\"counter\"] + 1,\n",
    "    }\n",
    "\n",
    "\n",
    "# Define the graph\n",
    "workflow.add_node(\"init\", init_node)\n",
    "workflow.add_node(\"calculate\", calculate_node)\n",
    "workflow.add_node(\"update\", update_node)\n",
    "\n",
    "workflow.set_entry_point(\"init\")\n",
    "workflow.add_edge(\"init\", \"calculate\")\n",
    "workflow.add_conditional_edges(\n",
    "    \"calculate\",\n",
    "    next_state,\n",
    "    {\n",
    "        \"update\": \"update\",\n",
    "        \"finish\": END,\n",
    "    },\n",
    ")\n",
    "workflow.add_edge(\"update\", \"calculate\")\n",
    "\n",
    "app = workflow.compile()"
   ]
  },
  {
   "cell_type": "code",
   "execution_count": 2,
   "metadata": {},
   "outputs": [
    {
     "name": "stdout",
     "output_type": "stream",
     "text": [
      "[1, 2, 3, 5, 8, 13, 21, 34, 55, 89, 144]\n"
     ]
    }
   ],
   "source": [
    "# Test...\n",
    "out = app.invoke({\"n\": 10})\n",
    "print(out[\"sequence\"])"
   ]
  },
  {
   "cell_type": "code",
   "execution_count": 3,
   "metadata": {},
   "outputs": [
    {
     "name": "stdout",
     "output_type": "stream",
     "text": [
      "1 2 3 5 8 13 21 34 55 89 144 233 377 610 987 1597 2584 4181 6765 10946 17711 28657 46368 75025 121393 196418 317811 514229 832040 1346269 2178309 3524578 5702887 9227465 14930352 24157817 39088169 63245986 102334155 165580141 267914296 433494437 701408733 1134903170 1836311903 2971215073 4807526976 7778742049 12586269025 20365011074 32951280099 53316291173 86267571272 139583862445 225851433717 365435296162 591286729879 956722026041 1548008755920 2504730781961 4052739537881 6557470319842 10610209857723 17167680177565 27777890035288 44945570212853 72723460248141 117669030460994 190392490709135 308061521170129 498454011879264 806515533049393 1304969544928657 2111485077978050 3416454622906707 5527939700884757 8944394323791464 14472334024676221 23416728348467685 37889062373143906 61305790721611591 99194853094755497 160500643816367088 259695496911122585 420196140727489673 679891637638612258 1100087778366101931 1779979416004714189 2880067194370816120 4660046610375530309 7540113804746346429 12200160415121876738 19740274219868223167 31940434634990099905 51680708854858323072 83621143489848422977 135301852344706746049 218922995834555169026 354224848179261915075 573147844013817084101 927372692193078999176 "
     ]
    }
   ],
   "source": [
    "#  Test in streaming...\n",
    "for output in app.stream({\"n\": 100}, {\"recursion_limit\": 250}):\n",
    "    for key, value in output.items():\n",
    "        if key == \"calculate\":\n",
    "            print(value[\"next_term\"], sep=\" \", end=\" \")"
   ]
  },
  {
   "cell_type": "code",
   "execution_count": 4,
   "metadata": {},
   "outputs": [
    {
     "name": "stdout",
     "output_type": "stream",
     "text": [
      "        +-----------+          \n",
      "        | __start__ |          \n",
      "        +-----------+          \n",
      "              *                \n",
      "              *                \n",
      "              *                \n",
      "          +------+             \n",
      "          | init |             \n",
      "          +------+             \n",
      "              *                \n",
      "              *                \n",
      "              *                \n",
      "        +-----------+          \n",
      "        | calculate |          \n",
      "        +-----------+          \n",
      "          .        .           \n",
      "        ..          ..         \n",
      "       .              .        \n",
      "+--------+        +---------+  \n",
      "| update |        | __end__ |  \n",
      "+--------+        +---------+  \n"
     ]
    }
   ],
   "source": [
    "print(app.get_graph().draw_ascii())"
   ]
  },
  {
   "cell_type": "code",
   "execution_count": null,
   "metadata": {},
   "outputs": [],
   "source": []
  },
  {
   "cell_type": "markdown",
   "metadata": {},
   "source": [
    "### Exercise : \n",
    "- Check that 'n' is greater than 1, else print a message.\n",
    "    - hint: use ```workflow.set_conditional_entry_point(...  ```\n",
    "- Have a and b as parameter of the chain . For example, calculate  Lucas Numbers (a=2, b=1, 3, 4, 7, 11, 18, 29,....)"
   ]
  },
  {
   "cell_type": "markdown",
   "metadata": {},
   "source": []
  },
  {
   "cell_type": "code",
   "execution_count": 5,
   "metadata": {},
   "outputs": [
    {
     "data": {
      "image/png": "[encoded data removed]",
      "text/plain": [
       "<IPython.core.display.Image object>"
      ]
     },
     "execution_count": 5,
     "metadata": {},
     "output_type": "execute_result"
    }
   ],
   "source": [
    "from IPython.display import Image\n",
    "\n",
    "app.get_graph().draw_png(\"/tmp/diagram.png\")\n",
    "Image(filename=\"/tmp/diagram.png\")"
   ]
  }
 ],
 "metadata": {
  "kernelspec": {
   "display_name": "genai-training-GvhVNXsu-py3.10",
   "language": "python",
   "name": "python3"
  },
  "language_info": {
   "codemirror_mode": {
    "name": "ipython",
    "version": 3
   },
   "file_extension": ".py",
   "mimetype": "text/x-python",
   "name": "python",
   "nbconvert_exporter": "python",
   "pygments_lexer": "ipython3",
   "version": "3.10.12"
  }
 },
 "nbformat": 4,
 "nbformat_minor": 2
}

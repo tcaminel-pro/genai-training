{
 "cells": [
  {
   "cell_type": "code",
   "execution_count": 7,
   "metadata": {},
   "outputs": [],
   "source": [
    "import sys\n",
    "from pathlib import Path\n",
    "\n",
    "from devtools import debug\n",
    "\n",
    "%load_ext autoreload\n",
    "%autoreload 2\n",
    "\n",
    "# fmt:off\n",
    "_ = [sys.path.append(str(path)) for path in [Path.cwd(), Path.cwd().parent, Path.cwd().parent / \"python\"] if str(path) not in sys.path] #fmt:on"
   ]
  },
  {
   "cell_type": "code",
   "execution_count": 9,
   "metadata": {},
   "outputs": [
    {
     "name": "stderr",
     "output_type": "stream",
     "text": [
      "\u001b[32m2024-06-06 00:25:46.348\u001b[0m | \u001b[1mINFO    \u001b[0m | \u001b[36mpython.ai_core.llm\u001b[0m:\u001b[36mget_llm\u001b[0m:\u001b[36m366\u001b[0m - \u001b[1mget LLM : gpt_4o_edenai - configurable: False\u001b[0m\n"
     ]
    },
    {
     "name": "stdout",
     "output_type": "stream",
     "text": [
      "/tmp/ipykernel_483621/2419822507.py:8 <module>\n",
      "    result: AIMessage(\n",
      "        content=(\n",
      "            \"Sure, here's a light-hearted joke for you:\\n\"\n",
      "            '\\n'\n",
      "            'Why did the castor wheel apply for a job?\\n'\n",
      "            '\\n'\n",
      "            'Because it wanted to get a roll in the industry!'\n",
      "        ),\n",
      "        response_metadata={\n",
      "            'openai': {\n",
      "                'status': 'success',\n",
      "                'generated_text': (\n",
      "                    \"Sure, here's a light-hearted joke for you:\\n\"\n",
      "                    '\\n'\n",
      "                    'Why did the castor wheel apply for a job?\\n'\n",
      "                    '\\n'\n",
      "                    'Because it wanted to get a roll in the industry!'\n",
      "                ),\n",
      "                'message': [\n",
      "                    {\n",
      "                        'role': 'user',\n",
      "                        'message': 'tell me a joke on castors',\n",
      "                        'tools': None,\n",
      "                        'tool_calls': None,\n",
      "                    },\n",
      "                    {\n",
      "                        'role': 'assistant',\n",
      "                        'message': (\n",
      "                            \"Sure, here's a light-hearted joke for you:\\n\"\n",
      "                            '\\n'\n",
      "                            'Why did the castor wheel apply for a job?\\n'\n",
      "                            '\\n'\n",
      "                            'Because it wanted to get a roll in the industry!'\n",
      "                        ),\n",
      "                        'tools': None,\n",
      "                        'tool_calls': [],\n",
      "                    },\n",
      "                ],\n",
      "                'cost': 0.00069,\n",
      "            },\n",
      "        },\n",
      "        id='run-c01fd3f5-a3b5-4901-94d1-e1c8de605b96-0',\n",
      "    ) (AIMessage)\n"
     ]
    },
    {
     "data": {
      "text/plain": [
       "AIMessage(content=\"Sure, here's a light-hearted joke for you:\\n\\nWhy did the castor wheel apply for a job?\\n\\nBecause it wanted to get a roll in the industry!\", response_metadata={'openai': {'status': 'success', 'generated_text': \"Sure, here's a light-hearted joke for you:\\n\\nWhy did the castor wheel apply for a job?\\n\\nBecause it wanted to get a roll in the industry!\", 'message': [{'role': 'user', 'message': 'tell me a joke on castors', 'tools': None, 'tool_calls': None}, {'role': 'assistant', 'message': \"Sure, here's a light-hearted joke for you:\\n\\nWhy did the castor wheel apply for a job?\\n\\nBecause it wanted to get a roll in the industry!\", 'tools': None, 'tool_calls': []}], 'cost': 0.00069}}, id='run-c01fd3f5-a3b5-4901-94d1-e1c8de605b96-0')"
      ]
     },
     "execution_count": 9,
     "metadata": {},
     "output_type": "execute_result"
    }
   ],
   "source": [
    "from python.ai_core.llm import get_llm\n",
    "from python.ai_core.prompts import def_prompt\n",
    "\n",
    "llm = get_llm(configurable=False)\n",
    "prompt = def_prompt(user=\"tell me a joke on {topic}\")\n",
    "chain = prompt | llm\n",
    "result = chain.invoke(input={\"topic\": \"castors\"})\n",
    "debug(result)"
   ]
  },
  {
   "cell_type": "code",
   "execution_count": 11,
   "metadata": {},
   "outputs": [
    {
     "name": "stdout",
     "output_type": "stream",
     "text": [
      "/tmp/ipykernel_483621/2807809678.py:1 <module>\n",
      "    prompt: ChatPromptTemplate(\n",
      "        input_variables=['topic'],\n",
      "        messages=[\n",
      "            HumanMessagePromptTemplate(\n",
      "                prompt=PromptTemplate(\n",
      "                    input_variables=['topic'],\n",
      "                    template='tell me a joke on {topic}',\n",
      "                ),\n",
      "            ),\n",
      "        ],\n",
      "    ) (ChatPromptTemplate) len=1\n"
     ]
    },
    {
     "data": {
      "text/plain": [
       "ChatPromptTemplate(input_variables=['topic'], messages=[HumanMessagePromptTemplate(prompt=PromptTemplate(input_variables=['topic'], template='tell me a joke on {topic}'))])"
      ]
     },
     "execution_count": 11,
     "metadata": {},
     "output_type": "execute_result"
    }
   ],
   "source": [
    "debug(prompt)"
   ]
  }
 ],
 "metadata": {
  "kernelspec": {
   "display_name": "di-maintenance-agent-demo-DCv9_gKb-py3.10",
   "language": "python",
   "name": "python3"
  },
  "language_info": {
   "codemirror_mode": {
    "name": "ipython",
    "version": 3
   },
   "file_extension": ".py",
   "mimetype": "text/x-python",
   "name": "python",
   "nbconvert_exporter": "python",
   "pygments_lexer": "ipython3",
   "version": "3.10.12"
  }
 },
 "nbformat": 4,
 "nbformat_minor": 2
}
